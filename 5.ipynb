{
 "cells": [
  {
   "cell_type": "markdown",
   "metadata": {
    "id": "bkvu6piHt3ra"
   },
   "source": [
    "### РОССИЙСКИЙ УНИВЕРСИТЕТ ДРУЖБЫ НАРОДОВ\n",
    "\n",
    "#### Факультет физико-математических и естественных наук  \n",
    "#### Кафедра информационных технологий "
   ]
  },
  {
   "cell_type": "markdown",
   "metadata": {
    "id": "djXIWnpjt3rf"
   },
   "source": [
    "## ОТЧЕТ ПО ЛАБОРАТОРНОЙ РАБОТЕ № 5\n",
    "\n",
    "\n",
    "### Дисциплина: Методы машинного обучения"
   ]
  },
  {
   "cell_type": "markdown",
   "metadata": {
    "id": "TbvGIymht3rh"
   },
   "source": [
    "## Москва 2022\n",
    "***"
   ]
  },
  {
   "cell_type": "markdown",
   "metadata": {
    "id": "avs03Eqmt3rh"
   },
   "source": [
    "### Вариант № 23"
   ]
  },
  {
   "cell_type": "markdown",
   "metadata": {},
   "source": [
    "# 1. При помощи модуля `pandas_datareader` считайте котировки указанной в индивидуальным задании акции за указанный период времени. "
   ]
  },
  {
   "cell_type": "code",
   "execution_count": 1,
   "metadata": {},
   "outputs": [
    {
     "name": "stdout",
     "output_type": "stream",
     "text": [
      "[*********************100%***********************]  1 of 1 completed\n",
      "                 Open       High        Low      Close  Adj Close   Volume\n",
      "Date                                                                      \n",
      "2019-12-31  87.709999  88.459999  87.709999  88.089996  88.089996  2073700\n",
      "2020-01-02  89.570000  90.570000  89.110001  89.739998  89.739998  2769800\n",
      "2020-01-03  86.800003  88.160004  86.260002  87.900002  87.900002  3562900\n",
      "2020-01-06  86.720001  88.070000  86.650002  87.699997  87.699997  2652700\n",
      "2020-01-07  87.410004  88.160004  86.739998  86.769997  86.769997  2581300\n"
     ]
    },
    {
     "data": {
      "text/html": [
       "<div>\n",
       "<style scoped>\n",
       "    .dataframe tbody tr th:only-of-type {\n",
       "        vertical-align: middle;\n",
       "    }\n",
       "\n",
       "    .dataframe tbody tr th {\n",
       "        vertical-align: top;\n",
       "    }\n",
       "\n",
       "    .dataframe thead th {\n",
       "        text-align: right;\n",
       "    }\n",
       "</style>\n",
       "<table border=\"1\" class=\"dataframe\">\n",
       "  <thead>\n",
       "    <tr style=\"text-align: right;\">\n",
       "      <th></th>\n",
       "      <th>Open</th>\n",
       "      <th>High</th>\n",
       "      <th>Low</th>\n",
       "      <th>Close</th>\n",
       "      <th>Adj Close</th>\n",
       "      <th>Volume</th>\n",
       "    </tr>\n",
       "    <tr>\n",
       "      <th>Date</th>\n",
       "      <th></th>\n",
       "      <th></th>\n",
       "      <th></th>\n",
       "      <th></th>\n",
       "      <th></th>\n",
       "      <th></th>\n",
       "    </tr>\n",
       "  </thead>\n",
       "  <tbody>\n",
       "    <tr>\n",
       "      <th>2021-12-27</th>\n",
       "      <td>43.560001</td>\n",
       "      <td>44.779999</td>\n",
       "      <td>43.080002</td>\n",
       "      <td>44.580002</td>\n",
       "      <td>44.580002</td>\n",
       "      <td>11239300</td>\n",
       "    </tr>\n",
       "    <tr>\n",
       "      <th>2021-12-28</th>\n",
       "      <td>44.320000</td>\n",
       "      <td>45.799999</td>\n",
       "      <td>44.049999</td>\n",
       "      <td>45.270000</td>\n",
       "      <td>45.270000</td>\n",
       "      <td>9256200</td>\n",
       "    </tr>\n",
       "    <tr>\n",
       "      <th>2021-12-29</th>\n",
       "      <td>44.820000</td>\n",
       "      <td>45.169998</td>\n",
       "      <td>44.330002</td>\n",
       "      <td>44.430000</td>\n",
       "      <td>44.430000</td>\n",
       "      <td>8341000</td>\n",
       "    </tr>\n",
       "    <tr>\n",
       "      <th>2021-12-30</th>\n",
       "      <td>44.290001</td>\n",
       "      <td>45.200001</td>\n",
       "      <td>44.070000</td>\n",
       "      <td>44.130001</td>\n",
       "      <td>44.130001</td>\n",
       "      <td>9854600</td>\n",
       "    </tr>\n",
       "    <tr>\n",
       "      <th>2021-12-31</th>\n",
       "      <td>44.139999</td>\n",
       "      <td>44.709999</td>\n",
       "      <td>43.720001</td>\n",
       "      <td>43.779999</td>\n",
       "      <td>43.779999</td>\n",
       "      <td>7398900</td>\n",
       "    </tr>\n",
       "  </tbody>\n",
       "</table>\n",
       "</div>"
      ],
      "text/plain": [
       "                 Open       High        Low      Close  Adj Close    Volume\n",
       "Date                                                                       \n",
       "2021-12-27  43.560001  44.779999  43.080002  44.580002  44.580002  11239300\n",
       "2021-12-28  44.320000  45.799999  44.049999  45.270000  45.270000   9256200\n",
       "2021-12-29  44.820000  45.169998  44.330002  44.430000  44.430000   8341000\n",
       "2021-12-30  44.290001  45.200001  44.070000  44.130001  44.130001   9854600\n",
       "2021-12-31  44.139999  44.709999  43.720001  43.779999  43.779999   7398900"
      ]
     },
     "execution_count": 1,
     "metadata": {},
     "output_type": "execute_result"
    }
   ],
   "source": [
    "import yfinance as yfin\n",
    "from keras import backend as K\n",
    "import tensorflow as tf\n",
    "from pandas_datareader import data as pdr\n",
    "import datetime as dt\n",
    "yfin.pdr_override()\n",
    "Anaida = pdr.get_data_yahoo('UAL',start=dt.datetime(2020, 1, 1),end=dt.datetime(2022, 1, 1))\n",
    "print (Anaida.head())\n",
    "Anaida.tail()"
   ]
  },
  {
   "cell_type": "markdown",
   "metadata": {},
   "source": [
    "# 2. Визуализируйте котировки акции (столбец `Adj Close`) за весь период на графике. Подпишите оси и рисунок."
   ]
  },
  {
   "cell_type": "code",
   "execution_count": 2,
   "metadata": {},
   "outputs": [
    {
     "data": {
      "text/plain": [
       "Text(0, 0.5, 'Y')"
      ]
     },
     "execution_count": 2,
     "metadata": {},
     "output_type": "execute_result"
    },
    {
     "data": {
      "image/png": "[encoded data removed]",
      "text/plain": [
       "<Figure size 432x288 with 1 Axes>"
      ]
     },
     "metadata": {
      "needs_background": "light"
     },
     "output_type": "display_data"
    }
   ],
   "source": [
    "import numpy as np\n",
    "import pandas as pd\n",
    "import matplotlib.pyplot as plt\n",
    "Anaida['Adj Close'].plot.line(grid=True,title='ANAIDA', color='purple');\n",
    "plt.xlabel('X')\n",
    "plt.ylabel('Y')"
   ]
  },
  {
   "cell_type": "markdown",
   "metadata": {},
   "source": [
    "# 3. Вычислите и визуализируйте заданный показатель акции в соответствии с индивидуальным заданием."
   ]
  },
  {
   "cell_type": "code",
   "execution_count": 3,
   "metadata": {},
   "outputs": [
    {
     "data": {
      "text/plain": [
       "Text(0, 0.5, 'Y')"
      ]
     },
     "execution_count": 3,
     "metadata": {},
     "output_type": "execute_result"
    },
    {
     "data": {
      "image/png": "[encoded data removed]",
      "text/plain": [
       "<Figure size 432x288 with 1 Axes>"
      ]
     },
     "metadata": {
      "needs_background": "light"
     },
     "output_type": "display_data"
    }
   ],
   "source": [
    "(Anaida[['Adj Close']].shift(1) - Anaida[['Adj Close']]).plot.hist(color='purple', edgecolor='black', bins=20, density=True);\n",
    "plt.xlabel('X')\n",
    "plt.title('ANAIDA')\n",
    "plt.ylabel('Y')"
   ]
  },
  {
   "cell_type": "markdown",
   "metadata": {},
   "source": [
    "# 4.\tСформируйте обучающую, тестовую и валидационные выборки для обучения нейронной сети в соответствии с индивидуальным заданием. "
   ]
  },
  {
   "cell_type": "code",
   "execution_count": 4,
   "metadata": {},
   "outputs": [
    {
     "name": "stdout",
     "output_type": "stream",
     "text": [
      "num_train_samples: 253\n",
      "num_val_samples: 126\n",
      "num_test_samples: 127\n"
     ]
    }
   ],
   "source": [
    "y = Anaida['Adj Close']\n",
    "data = Anaida.drop(['Adj Close'],axis=1)\n",
    "num_train_samples = int(0.5 * len(data))\n",
    "num_val_samples = int(0.25 * len(data))\n",
    "num_test_samples = len(data) - num_train_samples - num_val_samples\n",
    "print(\"num_train_samples:\", num_train_samples)\n",
    "print(\"num_val_samples:\", num_val_samples)\n",
    "print(\"num_test_samples:\", num_test_samples)\n",
    "mean = data[:num_train_samples].mean(axis=0)\n",
    "data -= mean\n",
    "std = data[:num_train_samples].std(axis=0)\n",
    "data /= std\n",
    "sampling_rate = 1\n",
    "sequence_length = 40\n",
    "delay = sampling_rate * (sequence_length + 10 - 1)\n",
    "batch_size = 16\n",
    "train_dataset = tf.keras.utils.timeseries_dataset_from_array(data[:-delay],targets=y[delay:],sampling_rate=sampling_rate,sequence_length=sequence_length,shuffle=True,batch_size=batch_size,start_index=0,end_index=num_train_samples)\n",
    "val_dataset = tf.keras.utils.timeseries_dataset_from_array(data[:-delay],targets=y[delay:],sampling_rate=sampling_rate,sequence_length=sequence_length,shuffle=True,batch_size=batch_size,start_index=num_train_samples,end_index=num_train_samples + num_val_samples)\n",
    "test_dataset = tf.keras.utils.timeseries_dataset_from_array(data[:-delay],targets=y[delay:],sampling_rate=sampling_rate,sequence_length=sequence_length,shuffle=True,batch_size=batch_size,start_index=num_train_samples + num_val_samples)"
   ]
  },
  {
   "cell_type": "markdown",
   "metadata": {},
   "source": [
    "# 5.\tПостройте нейронную сеть MLP с нормализующим слоем и одним плотным скрытым слоем из 16 нейронов для прогнозирования стоимости акции и обучите ее на обучающей выборке. Оцените качество прогнозирования при помощи заданного показателя качества на тестовой выборке."
   ]
  },
  {
   "cell_type": "code",
   "execution_count": 5,
   "metadata": {},
   "outputs": [
    {
     "name": "stdout",
     "output_type": "stream",
     "text": [
      "Epoch 1/100\n",
      "14/14 [==============================] - 1s 31ms/step - loss: 1288.1449 - mae: 35.2705 - val_loss: 3086.9138 - val_mae: 55.4659\n",
      "Epoch 2/100\n",
      "14/14 [==============================] - 0s 11ms/step - loss: 1272.0585 - mae: 35.0404 - val_loss: 3072.4673 - val_mae: 55.3356\n",
      "Epoch 3/100\n",
      "14/14 [==============================] - 0s 11ms/step - loss: 1258.8373 - mae: 34.8488 - val_loss: 3058.8271 - val_mae: 55.2123\n",
      "Epoch 4/100\n",
      "14/14 [==============================] - 0s 11ms/step - loss: 1246.1427 - mae: 34.6666 - val_loss: 3045.4500 - val_mae: 55.0910\n",
      "Epoch 5/100\n",
      "14/14 [==============================] - 0s 12ms/step - loss: 1233.9871 - mae: 34.4886 - val_loss: 3032.4487 - val_mae: 54.9728\n",
      "Epoch 6/100\n",
      "14/14 [==============================] - 0s 10ms/step - loss: 1221.7078 - mae: 34.3111 - val_loss: 3018.9031 - val_mae: 54.8494\n",
      "Epoch 7/100\n",
      "14/14 [==============================] - 0s 12ms/step - loss: 1209.5068 - mae: 34.1318 - val_loss: 3006.5762 - val_mae: 54.7368\n",
      "Epoch 8/100\n",
      "14/14 [==============================] - 0s 10ms/step - loss: 1197.2197 - mae: 33.9509 - val_loss: 2995.5054 - val_mae: 54.6357\n",
      "Epoch 9/100\n",
      "14/14 [==============================] - 0s 10ms/step - loss: 1184.9923 - mae: 33.7671 - val_loss: 2984.7371 - val_mae: 54.5368\n",
      "Epoch 10/100\n",
      "14/14 [==============================] - 0s 10ms/step - loss: 1172.7550 - mae: 33.5854 - val_loss: 2973.1938 - val_mae: 54.4310\n",
      "Epoch 11/100\n",
      "14/14 [==============================] - 0s 10ms/step - loss: 1160.1732 - mae: 33.3972 - val_loss: 2961.5093 - val_mae: 54.3235\n",
      "Epoch 12/100\n",
      "14/14 [==============================] - 0s 12ms/step - loss: 1147.6539 - mae: 33.2047 - val_loss: 2948.3813 - val_mae: 54.2023\n",
      "Epoch 13/100\n",
      "14/14 [==============================] - 0s 11ms/step - loss: 1135.2725 - mae: 33.0098 - val_loss: 2936.9697 - val_mae: 54.0967\n",
      "Epoch 14/100\n",
      "14/14 [==============================] - 0s 11ms/step - loss: 1122.1323 - mae: 32.8119 - val_loss: 2926.5293 - val_mae: 54.0000\n",
      "Epoch 15/100\n",
      "14/14 [==============================] - 0s 8ms/step - loss: 1108.7338 - mae: 32.6060 - val_loss: 2914.7205 - val_mae: 53.8900\n",
      "Epoch 16/100\n",
      "14/14 [==============================] - 0s 10ms/step - loss: 1095.4764 - mae: 32.3960 - val_loss: 2903.0640 - val_mae: 53.7821\n",
      "Epoch 17/100\n",
      "14/14 [==============================] - 0s 9ms/step - loss: 1081.7864 - mae: 32.1805 - val_loss: 2891.4807 - val_mae: 53.6742\n",
      "Epoch 18/100\n",
      "14/14 [==============================] - 0s 13ms/step - loss: 1067.7729 - mae: 31.9606 - val_loss: 2879.7957 - val_mae: 53.5650\n",
      "Epoch 19/100\n",
      "14/14 [==============================] - 0s 12ms/step - loss: 1053.6498 - mae: 31.7340 - val_loss: 2869.7878 - val_mae: 53.4714\n",
      "Epoch 20/100\n",
      "14/14 [==============================] - 0s 13ms/step - loss: 1039.2759 - mae: 31.4999 - val_loss: 2857.1653 - val_mae: 53.3530\n",
      "Epoch 21/100\n",
      "14/14 [==============================] - 0s 12ms/step - loss: 1024.8878 - mae: 31.2645 - val_loss: 2845.9563 - val_mae: 53.2472\n",
      "Epoch 22/100\n",
      "14/14 [==============================] - 0s 11ms/step - loss: 1010.2300 - mae: 31.0157 - val_loss: 2835.8235 - val_mae: 53.1519\n",
      "Epoch 23/100\n",
      "14/14 [==============================] - 0s 9ms/step - loss: 994.0714 - mae: 30.7565 - val_loss: 2825.0283 - val_mae: 53.0501\n",
      "Epoch 24/100\n",
      "14/14 [==============================] - 0s 8ms/step - loss: 977.9039 - mae: 30.4866 - val_loss: 2813.6970 - val_mae: 52.9438\n",
      "Epoch 25/100\n",
      "14/14 [==============================] - 0s 13ms/step - loss: 962.2935 - mae: 30.2146 - val_loss: 2802.3584 - val_mae: 52.8354\n",
      "Epoch 26/100\n",
      "14/14 [==============================] - 0s 9ms/step - loss: 946.0672 - mae: 29.9304 - val_loss: 2792.2156 - val_mae: 52.7383\n",
      "Epoch 27/100\n",
      "14/14 [==============================] - 0s 14ms/step - loss: 929.3048 - mae: 29.6336 - val_loss: 2779.9182 - val_mae: 52.6233\n",
      "Epoch 28/100\n",
      "14/14 [==============================] - 0s 10ms/step - loss: 912.1279 - mae: 29.3380 - val_loss: 2768.5950 - val_mae: 52.5153\n",
      "Epoch 29/100\n",
      "14/14 [==============================] - 0s 15ms/step - loss: 894.6439 - mae: 29.0262 - val_loss: 2757.2512 - val_mae: 52.4064\n",
      "Epoch 30/100\n",
      "14/14 [==============================] - 0s 11ms/step - loss: 876.9581 - mae: 28.6968 - val_loss: 2744.8489 - val_mae: 52.2878\n",
      "Epoch 31/100\n",
      "14/14 [==============================] - 0s 11ms/step - loss: 858.4592 - mae: 28.3579 - val_loss: 2731.5139 - val_mae: 52.1570\n",
      "Epoch 32/100\n",
      "14/14 [==============================] - 0s 9ms/step - loss: 840.3331 - mae: 28.0176 - val_loss: 2717.5630 - val_mae: 52.0245\n",
      "Epoch 33/100\n",
      "14/14 [==============================] - 0s 12ms/step - loss: 820.4844 - mae: 27.6643 - val_loss: 2704.3901 - val_mae: 51.8980\n",
      "Epoch 34/100\n",
      "14/14 [==============================] - 0s 12ms/step - loss: 802.9270 - mae: 27.3046 - val_loss: 2689.8291 - val_mae: 51.7571\n",
      "Epoch 35/100\n",
      "14/14 [==============================] - 0s 9ms/step - loss: 783.7928 - mae: 26.9367 - val_loss: 2675.8674 - val_mae: 51.6225\n",
      "Epoch 36/100\n",
      "14/14 [==============================] - 0s 11ms/step - loss: 763.5297 - mae: 26.5585 - val_loss: 2662.5952 - val_mae: 51.4939\n",
      "Epoch 37/100\n",
      "14/14 [==============================] - 0s 9ms/step - loss: 744.8025 - mae: 26.1736 - val_loss: 2646.4080 - val_mae: 51.3359\n",
      "Epoch 38/100\n",
      "14/14 [==============================] - 0s 9ms/step - loss: 725.8464 - mae: 25.7827 - val_loss: 2630.5183 - val_mae: 51.1805\n",
      "Epoch 39/100\n",
      "14/14 [==============================] - 0s 10ms/step - loss: 706.2962 - mae: 25.3741 - val_loss: 2615.2620 - val_mae: 51.0304\n",
      "Epoch 40/100\n",
      "14/14 [==============================] - 0s 10ms/step - loss: 687.6832 - mae: 24.9645 - val_loss: 2600.1812 - val_mae: 50.8804\n",
      "Epoch 41/100\n",
      "14/14 [==============================] - 0s 12ms/step - loss: 667.6817 - mae: 24.5433 - val_loss: 2584.1553 - val_mae: 50.7241\n",
      "Epoch 42/100\n",
      "14/14 [==============================] - 0s 9ms/step - loss: 648.4830 - mae: 24.1229 - val_loss: 2567.6443 - val_mae: 50.5599\n",
      "Epoch 43/100\n",
      "14/14 [==============================] - 0s 9ms/step - loss: 631.3130 - mae: 23.6868 - val_loss: 2551.8013 - val_mae: 50.4032\n",
      "Epoch 44/100\n",
      "14/14 [==============================] - 0s 8ms/step - loss: 610.9255 - mae: 23.2534 - val_loss: 2535.0085 - val_mae: 50.2353\n",
      "Epoch 45/100\n",
      "14/14 [==============================] - 0s 8ms/step - loss: 593.2156 - mae: 22.8040 - val_loss: 2518.8374 - val_mae: 50.0741\n",
      "Epoch 46/100\n",
      "14/14 [==============================] - 0s 15ms/step - loss: 572.7368 - mae: 22.3593 - val_loss: 2501.1553 - val_mae: 49.8916\n",
      "Epoch 47/100\n",
      "14/14 [==============================] - 0s 10ms/step - loss: 556.3425 - mae: 21.9096 - val_loss: 2483.2461 - val_mae: 49.7163\n",
      "Epoch 48/100\n",
      "14/14 [==============================] - 0s 20ms/step - loss: 542.6365 - mae: 21.4612 - val_loss: 2467.5947 - val_mae: 49.5569\n",
      "Epoch 49/100\n",
      "14/14 [==============================] - 0s 8ms/step - loss: 520.7586 - mae: 21.0173 - val_loss: 2450.5276 - val_mae: 49.3852\n",
      "Epoch 50/100\n",
      "14/14 [==============================] - 0s 8ms/step - loss: 503.6790 - mae: 20.5530 - val_loss: 2433.4072 - val_mae: 49.2098\n",
      "Epoch 51/100\n",
      "14/14 [==============================] - 0s 10ms/step - loss: 487.3461 - mae: 20.0750 - val_loss: 2416.1062 - val_mae: 49.0333\n",
      "Epoch 52/100\n",
      "14/14 [==============================] - 0s 9ms/step - loss: 471.5458 - mae: 19.6378 - val_loss: 2397.5771 - val_mae: 48.8428\n",
      "Epoch 53/100\n",
      "14/14 [==============================] - 0s 9ms/step - loss: 455.2932 - mae: 19.1926 - val_loss: 2380.0120 - val_mae: 48.6614\n",
      "Epoch 54/100\n",
      "14/14 [==============================] - 0s 11ms/step - loss: 436.9305 - mae: 18.7368 - val_loss: 2361.5884 - val_mae: 48.4701\n",
      "Epoch 55/100\n",
      "14/14 [==============================] - 0s 9ms/step - loss: 419.9460 - mae: 18.2854 - val_loss: 2342.0134 - val_mae: 48.2673\n",
      "Epoch 56/100\n",
      "14/14 [==============================] - 0s 10ms/step - loss: 405.9901 - mae: 17.8553 - val_loss: 2324.2915 - val_mae: 48.0815\n",
      "Epoch 57/100\n",
      "14/14 [==============================] - 0s 9ms/step - loss: 393.0237 - mae: 17.4167 - val_loss: 2305.4583 - val_mae: 47.8865\n",
      "Epoch 58/100\n",
      "14/14 [==============================] - 0s 9ms/step - loss: 378.0676 - mae: 17.0277 - val_loss: 2285.0459 - val_mae: 47.6698\n",
      "Epoch 59/100\n",
      "14/14 [==============================] - 0s 10ms/step - loss: 364.7719 - mae: 16.6049 - val_loss: 2264.9316 - val_mae: 47.4579\n",
      "Epoch 60/100\n",
      "14/14 [==============================] - 0s 8ms/step - loss: 352.9208 - mae: 16.2562 - val_loss: 2244.0264 - val_mae: 47.2356\n",
      "Epoch 61/100\n",
      "14/14 [==============================] - 0s 9ms/step - loss: 341.1748 - mae: 15.9039 - val_loss: 2223.0642 - val_mae: 47.0105\n",
      "Epoch 62/100\n",
      "14/14 [==============================] - 0s 8ms/step - loss: 327.6477 - mae: 15.5491 - val_loss: 2203.0798 - val_mae: 46.7980\n",
      "Epoch 63/100\n",
      "14/14 [==============================] - 0s 8ms/step - loss: 317.3694 - mae: 15.1983 - val_loss: 2181.9263 - val_mae: 46.5722\n",
      "Epoch 64/100\n",
      "14/14 [==============================] - 0s 11ms/step - loss: 306.0671 - mae: 14.8626 - val_loss: 2161.0310 - val_mae: 46.3466\n",
      "Epoch 65/100\n",
      "14/14 [==============================] - 0s 9ms/step - loss: 293.5959 - mae: 14.5949 - val_loss: 2138.7239 - val_mae: 46.1023\n",
      "Epoch 66/100\n",
      "14/14 [==============================] - 0s 9ms/step - loss: 283.3536 - mae: 14.3182 - val_loss: 2118.9907 - val_mae: 45.8834\n",
      "Epoch 67/100\n",
      "14/14 [==============================] - 0s 8ms/step - loss: 272.8095 - mae: 13.9594 - val_loss: 2097.7949 - val_mae: 45.6515\n",
      "Epoch 68/100\n",
      "14/14 [==============================] - 0s 9ms/step - loss: 265.8630 - mae: 13.7580 - val_loss: 2074.2822 - val_mae: 45.3948\n",
      "Epoch 69/100\n",
      "14/14 [==============================] - 0s 8ms/step - loss: 256.1309 - mae: 13.4533 - val_loss: 2052.6001 - val_mae: 45.1555\n",
      "Epoch 70/100\n",
      "14/14 [==============================] - 0s 8ms/step - loss: 252.8327 - mae: 13.3194 - val_loss: 2029.9580 - val_mae: 44.9016\n",
      "Epoch 71/100\n",
      "14/14 [==============================] - 0s 10ms/step - loss: 245.8249 - mae: 13.1634 - val_loss: 2008.0984 - val_mae: 44.6543\n",
      "Epoch 72/100\n",
      "14/14 [==============================] - 0s 9ms/step - loss: 239.3197 - mae: 12.9168 - val_loss: 1986.2454 - val_mae: 44.4075\n",
      "Epoch 73/100\n",
      "14/14 [==============================] - 0s 8ms/step - loss: 230.7506 - mae: 12.7056 - val_loss: 1960.2919 - val_mae: 44.1154\n",
      "Epoch 74/100\n",
      "14/14 [==============================] - 0s 15ms/step - loss: 227.6292 - mae: 12.5933 - val_loss: 1939.8953 - val_mae: 43.8826\n",
      "Epoch 75/100\n",
      "14/14 [==============================] - 0s 9ms/step - loss: 224.2610 - mae: 12.4727 - val_loss: 1916.4048 - val_mae: 43.6132\n",
      "Epoch 76/100\n",
      "14/14 [==============================] - 0s 9ms/step - loss: 216.4239 - mae: 12.2100 - val_loss: 1893.8254 - val_mae: 43.3486\n",
      "Epoch 77/100\n",
      "14/14 [==============================] - 0s 11ms/step - loss: 213.6030 - mae: 12.1288 - val_loss: 1870.3232 - val_mae: 43.0792\n",
      "Epoch 78/100\n",
      "14/14 [==============================] - 0s 9ms/step - loss: 207.6730 - mae: 11.9505 - val_loss: 1845.0145 - val_mae: 42.7829\n",
      "Epoch 79/100\n",
      "14/14 [==============================] - 0s 8ms/step - loss: 206.8452 - mae: 11.8795 - val_loss: 1823.1250 - val_mae: 42.5228\n",
      "Epoch 80/100\n",
      "14/14 [==============================] - 0s 13ms/step - loss: 201.6770 - mae: 11.6912 - val_loss: 1799.4711 - val_mae: 42.2421\n",
      "Epoch 81/100\n",
      "14/14 [==============================] - 0s 10ms/step - loss: 198.0110 - mae: 11.5975 - val_loss: 1775.6578 - val_mae: 41.9597\n",
      "Epoch 82/100\n",
      "14/14 [==============================] - 0s 9ms/step - loss: 196.8056 - mae: 11.5278 - val_loss: 1752.8940 - val_mae: 41.6859\n",
      "Epoch 83/100\n",
      "14/14 [==============================] - 0s 8ms/step - loss: 191.7075 - mae: 11.3551 - val_loss: 1731.3929 - val_mae: 41.4262\n",
      "Epoch 84/100\n",
      "14/14 [==============================] - 0s 10ms/step - loss: 192.4244 - mae: 11.3828 - val_loss: 1708.2655 - val_mae: 41.1467\n",
      "Epoch 85/100\n",
      "14/14 [==============================] - 0s 9ms/step - loss: 188.3217 - mae: 11.2734 - val_loss: 1685.0492 - val_mae: 40.8628\n",
      "Epoch 86/100\n",
      "14/14 [==============================] - 0s 9ms/step - loss: 184.5091 - mae: 11.1260 - val_loss: 1661.4395 - val_mae: 40.5688\n",
      "Epoch 87/100\n",
      "14/14 [==============================] - 0s 9ms/step - loss: 184.3686 - mae: 11.1015 - val_loss: 1638.6132 - val_mae: 40.2872\n",
      "Epoch 88/100\n",
      "14/14 [==============================] - 0s 10ms/step - loss: 181.0980 - mae: 11.0232 - val_loss: 1615.8743 - val_mae: 40.0004\n",
      "Epoch 89/100\n",
      "14/14 [==============================] - 0s 10ms/step - loss: 177.6476 - mae: 10.9116 - val_loss: 1596.5815 - val_mae: 39.7590\n",
      "Epoch 90/100\n",
      "14/14 [==============================] - 0s 12ms/step - loss: 175.2628 - mae: 10.8188 - val_loss: 1573.1927 - val_mae: 39.4620\n",
      "Epoch 91/100\n",
      "14/14 [==============================] - 0s 9ms/step - loss: 173.7057 - mae: 10.7963 - val_loss: 1552.6478 - val_mae: 39.1985\n",
      "Epoch 92/100\n",
      "14/14 [==============================] - 0s 8ms/step - loss: 174.0819 - mae: 10.7949 - val_loss: 1533.8956 - val_mae: 38.9561\n",
      "Epoch 93/100\n",
      "14/14 [==============================] - 0s 9ms/step - loss: 169.0742 - mae: 10.6198 - val_loss: 1517.6432 - val_mae: 38.7460\n",
      "Epoch 94/100\n",
      "14/14 [==============================] - 0s 9ms/step - loss: 167.3379 - mae: 10.5817 - val_loss: 1503.4048 - val_mae: 38.5651\n",
      "Epoch 95/100\n",
      "14/14 [==============================] - 0s 10ms/step - loss: 164.4075 - mae: 10.5195 - val_loss: 1487.4330 - val_mae: 38.3571\n",
      "Epoch 96/100\n",
      "14/14 [==============================] - 0s 8ms/step - loss: 164.9745 - mae: 10.5290 - val_loss: 1473.3357 - val_mae: 38.1739\n",
      "Epoch 97/100\n",
      "14/14 [==============================] - 0s 10ms/step - loss: 161.9362 - mae: 10.4008 - val_loss: 1463.7386 - val_mae: 38.0474\n",
      "Epoch 98/100\n",
      "14/14 [==============================] - 0s 11ms/step - loss: 158.5726 - mae: 10.2861 - val_loss: 1447.0125 - val_mae: 37.8270\n",
      "Epoch 99/100\n",
      "14/14 [==============================] - 0s 18ms/step - loss: 155.8122 - mae: 10.1847 - val_loss: 1434.5613 - val_mae: 37.6595\n",
      "Epoch 100/100\n",
      "14/14 [==============================] - 0s 11ms/step - loss: 156.8712 - mae: 10.2599 - val_loss: 1426.6217 - val_mae: 37.5570\n"
     ]
    }
   ],
   "source": [
    "inputs = tf.keras.Input(shape=(sequence_length, data.shape[-1]))\n",
    "x = tf.keras.layers.Normalization()(inputs)\n",
    "\n",
    "x = tf.keras.layers.Dense(16, activation=\"relu\")(x)\n",
    "outputs = tf.keras.layers.Dense(1)(x)\n",
    "\n",
    "model = tf.keras.Model(inputs, outputs)\n",
    "model.compile(optimizer=\"rmsprop\", loss=\"mse\", metrics=['mae'])\n",
    "\n",
    "_1 = model.fit(train_dataset,epochs=100,validation_data=val_dataset,) "
   ]
  },
  {
   "cell_type": "code",
   "execution_count": 6,
   "metadata": {},
   "outputs": [
    {
     "name": "stdout",
     "output_type": "stream",
     "text": [
      "3/3 [==============================] - 0s 5ms/step - loss: 1030.8942 - mae: 32.0285\n",
      "TEST MAE: 32.03\n"
     ]
    }
   ],
   "source": [
    "print(f\"TEST MAE: {model.evaluate(test_dataset)[1]:.2f}\")"
   ]
  },
  {
   "cell_type": "code",
   "execution_count": 7,
   "metadata": {},
   "outputs": [
    {
     "name": "stdout",
     "output_type": "stream",
     "text": [
      "Model: \"model\"\n",
      "_________________________________________________________________\n",
      " Layer (type)                Output Shape              Param #   \n",
      "=================================================================\n",
      " input_1 (InputLayer)        [(None, 40, 5)]           0         \n",
      "                                                                 \n",
      " normalization (Normalizatio  (None, 40, 5)            11        \n",
      " n)                                                              \n",
      "                                                                 \n",
      " dense (Dense)               (None, 40, 16)            96        \n",
      "                                                                 \n",
      " dense_1 (Dense)             (None, 40, 1)             17        \n",
      "                                                                 \n",
      "=================================================================\n",
      "Total params: 124\n",
      "Trainable params: 113\n",
      "Non-trainable params: 11\n",
      "_________________________________________________________________\n"
     ]
    }
   ],
   "source": [
    "model.summary()"
   ]
  },
  {
   "cell_type": "markdown",
   "metadata": {},
   "source": [
    "# 6.\tПримените указанную в индивидуальном задании технику решения проблемы исчезающих градиентов и постройте нейронную сеть MLP с нормализующим слоем и тремя плотными скрытыми слоями из 16 нейронов для прогнозирования стоимости акции и обучите ее на обучающей выборке. Оцените качество прогнозирования при помощи заданного показателя качества для тестовой выборки."
   ]
  },
  {
   "cell_type": "code",
   "execution_count": 8,
   "metadata": {},
   "outputs": [
    {
     "name": "stdout",
     "output_type": "stream",
     "text": [
      "Epoch 1/100\n",
      "14/14 [==============================] - 1s 34ms/step - loss: 1229.1539 - mae: 34.4033 - val_loss: 3153.5327 - val_mae: 56.0616\n",
      "Epoch 2/100\n",
      "14/14 [==============================] - 0s 11ms/step - loss: 1129.5598 - mae: 32.8866 - val_loss: 3239.0786 - val_mae: 56.8146\n",
      "Epoch 3/100\n",
      "14/14 [==============================] - 0s 10ms/step - loss: 1038.6310 - mae: 31.3740 - val_loss: 3304.6191 - val_mae: 57.3769\n",
      "Epoch 4/100\n",
      "14/14 [==============================] - 0s 14ms/step - loss: 950.6514 - mae: 29.7835 - val_loss: 3314.7112 - val_mae: 57.4568\n",
      "Epoch 5/100\n",
      "14/14 [==============================] - 0s 10ms/step - loss: 863.9564 - mae: 28.1807 - val_loss: 3307.6973 - val_mae: 57.3793\n",
      "Epoch 6/100\n",
      "14/14 [==============================] - 0s 17ms/step - loss: 773.4125 - mae: 26.3937 - val_loss: 3277.8079 - val_mae: 57.1072\n",
      "Epoch 7/100\n",
      "14/14 [==============================] - 0s 13ms/step - loss: 683.2327 - mae: 24.4432 - val_loss: 3213.3584 - val_mae: 56.5277\n",
      "Epoch 8/100\n",
      "14/14 [==============================] - 0s 14ms/step - loss: 589.3426 - mae: 22.3054 - val_loss: 3134.1021 - val_mae: 55.8136\n",
      "Epoch 9/100\n",
      "14/14 [==============================] - 0s 13ms/step - loss: 502.1543 - mae: 20.0029 - val_loss: 3045.1099 - val_mae: 54.9958\n",
      "Epoch 10/100\n",
      "14/14 [==============================] - 0s 13ms/step - loss: 422.2347 - mae: 17.6913 - val_loss: 2925.0779 - val_mae: 53.8938\n",
      "Epoch 11/100\n",
      "14/14 [==============================] - 0s 13ms/step - loss: 351.7809 - mae: 15.4156 - val_loss: 2797.4441 - val_mae: 52.6831\n",
      "Epoch 12/100\n",
      "14/14 [==============================] - 0s 13ms/step - loss: 290.9659 - mae: 13.4719 - val_loss: 2704.6851 - val_mae: 51.7919\n",
      "Epoch 13/100\n",
      "14/14 [==============================] - 0s 14ms/step - loss: 256.2927 - mae: 12.0873 - val_loss: 2554.2048 - val_mae: 50.2999\n",
      "Epoch 14/100\n",
      "14/14 [==============================] - 0s 12ms/step - loss: 227.7148 - mae: 11.2333 - val_loss: 2430.5479 - val_mae: 49.0516\n",
      "Epoch 15/100\n",
      "14/14 [==============================] - 0s 13ms/step - loss: 204.6614 - mae: 10.6273 - val_loss: 2307.0068 - val_mae: 47.7707\n",
      "Epoch 16/100\n",
      "14/14 [==============================] - 0s 28ms/step - loss: 187.5169 - mae: 10.1825 - val_loss: 2195.9277 - val_mae: 46.5957\n",
      "Epoch 17/100\n",
      "14/14 [==============================] - 0s 18ms/step - loss: 171.3689 - mae: 9.6837 - val_loss: 2085.5417 - val_mae: 45.3853\n",
      "Epoch 18/100\n",
      "14/14 [==============================] - 0s 15ms/step - loss: 154.4982 - mae: 9.2345 - val_loss: 1993.8831 - val_mae: 44.3548\n",
      "Epoch 19/100\n",
      "14/14 [==============================] - 0s 13ms/step - loss: 141.2395 - mae: 8.8677 - val_loss: 1891.4376 - val_mae: 43.1797\n",
      "Epoch 20/100\n",
      "14/14 [==============================] - 0s 13ms/step - loss: 127.2262 - mae: 8.3838 - val_loss: 1807.0144 - val_mae: 42.1931\n",
      "Epoch 21/100\n",
      "14/14 [==============================] - 0s 20ms/step - loss: 114.4863 - mae: 7.9587 - val_loss: 1728.6932 - val_mae: 41.2364\n",
      "Epoch 22/100\n",
      "14/14 [==============================] - 0s 19ms/step - loss: 104.9985 - mae: 7.6477 - val_loss: 1642.9596 - val_mae: 40.1985\n",
      "Epoch 23/100\n",
      "14/14 [==============================] - 0s 16ms/step - loss: 95.7133 - mae: 7.3024 - val_loss: 1551.8925 - val_mae: 39.0520\n",
      "Epoch 24/100\n",
      "14/14 [==============================] - 0s 17ms/step - loss: 87.8382 - mae: 6.9680 - val_loss: 1471.5493 - val_mae: 38.0182\n",
      "Epoch 25/100\n",
      "14/14 [==============================] - 0s 21ms/step - loss: 79.2097 - mae: 6.7016 - val_loss: 1398.9700 - val_mae: 37.0419\n",
      "Epoch 26/100\n",
      "14/14 [==============================] - 0s 17ms/step - loss: 74.3616 - mae: 6.5023 - val_loss: 1319.7089 - val_mae: 35.9768\n",
      "Epoch 27/100\n",
      "14/14 [==============================] - 0s 14ms/step - loss: 66.1284 - mae: 6.0740 - val_loss: 1241.5287 - val_mae: 34.8994\n",
      "Epoch 28/100\n",
      "14/14 [==============================] - 0s 15ms/step - loss: 62.8935 - mae: 5.9934 - val_loss: 1159.2871 - val_mae: 33.7037\n",
      "Epoch 29/100\n",
      "14/14 [==============================] - 0s 15ms/step - loss: 58.0544 - mae: 5.7688 - val_loss: 1074.9846 - val_mae: 32.4618\n",
      "Epoch 30/100\n",
      "14/14 [==============================] - 0s 16ms/step - loss: 56.1808 - mae: 5.7223 - val_loss: 1006.2243 - val_mae: 31.3968\n",
      "Epoch 31/100\n",
      "14/14 [==============================] - 0s 12ms/step - loss: 53.2908 - mae: 5.5940 - val_loss: 946.1439 - val_mae: 30.4236\n",
      "Epoch 32/100\n",
      "14/14 [==============================] - 0s 15ms/step - loss: 51.6102 - mae: 5.5094 - val_loss: 868.4535 - val_mae: 29.1504\n",
      "Epoch 33/100\n",
      "14/14 [==============================] - 0s 15ms/step - loss: 50.2911 - mae: 5.4890 - val_loss: 816.3388 - val_mae: 28.2601\n",
      "Epoch 34/100\n",
      "14/14 [==============================] - 0s 14ms/step - loss: 48.9576 - mae: 5.3881 - val_loss: 763.3843 - val_mae: 27.3425\n",
      "Epoch 35/100\n",
      "14/14 [==============================] - 0s 16ms/step - loss: 49.6897 - mae: 5.4360 - val_loss: 737.7005 - val_mae: 26.8610\n",
      "Epoch 36/100\n",
      "14/14 [==============================] - 0s 17ms/step - loss: 48.0915 - mae: 5.3493 - val_loss: 675.3431 - val_mae: 25.7214\n",
      "Epoch 37/100\n",
      "14/14 [==============================] - 0s 13ms/step - loss: 47.8639 - mae: 5.3334 - val_loss: 624.9074 - val_mae: 24.7312\n",
      "Epoch 38/100\n",
      "14/14 [==============================] - 0s 17ms/step - loss: 47.1457 - mae: 5.3092 - val_loss: 591.7980 - val_mae: 24.0449\n",
      "Epoch 39/100\n",
      "14/14 [==============================] - 0s 16ms/step - loss: 46.9021 - mae: 5.3012 - val_loss: 575.8657 - val_mae: 23.7186\n",
      "Epoch 40/100\n",
      "14/14 [==============================] - 0s 12ms/step - loss: 45.7624 - mae: 5.2678 - val_loss: 549.8469 - val_mae: 23.1772\n",
      "Epoch 41/100\n",
      "14/14 [==============================] - 0s 17ms/step - loss: 45.8484 - mae: 5.2220 - val_loss: 516.7267 - val_mae: 22.4795\n",
      "Epoch 42/100\n",
      "14/14 [==============================] - 0s 16ms/step - loss: 45.7907 - mae: 5.1822 - val_loss: 515.3236 - val_mae: 22.4372\n",
      "Epoch 43/100\n",
      "14/14 [==============================] - 0s 13ms/step - loss: 45.5177 - mae: 5.1738 - val_loss: 493.1717 - val_mae: 21.9555\n",
      "Epoch 44/100\n",
      "14/14 [==============================] - 0s 13ms/step - loss: 45.2889 - mae: 5.1558 - val_loss: 484.2096 - val_mae: 21.7494\n",
      "Epoch 45/100\n",
      "14/14 [==============================] - 0s 13ms/step - loss: 45.1523 - mae: 5.1646 - val_loss: 477.2327 - val_mae: 21.5794\n",
      "Epoch 46/100\n",
      "14/14 [==============================] - 0s 16ms/step - loss: 45.4050 - mae: 5.1959 - val_loss: 484.5208 - val_mae: 21.7496\n",
      "Epoch 47/100\n",
      "14/14 [==============================] - 0s 14ms/step - loss: 45.1005 - mae: 5.1730 - val_loss: 464.0880 - val_mae: 21.2790\n",
      "Epoch 48/100\n",
      "14/14 [==============================] - 0s 14ms/step - loss: 45.0481 - mae: 5.1264 - val_loss: 442.6333 - val_mae: 20.7755\n",
      "Epoch 49/100\n",
      "14/14 [==============================] - 0s 12ms/step - loss: 45.1425 - mae: 5.1879 - val_loss: 456.3639 - val_mae: 21.1010\n",
      "Epoch 50/100\n",
      "14/14 [==============================] - 0s 14ms/step - loss: 44.6856 - mae: 5.1209 - val_loss: 466.3472 - val_mae: 21.3389\n",
      "Epoch 51/100\n",
      "14/14 [==============================] - 0s 12ms/step - loss: 44.5718 - mae: 5.1065 - val_loss: 458.1831 - val_mae: 21.1419\n",
      "Epoch 52/100\n",
      "14/14 [==============================] - 0s 17ms/step - loss: 44.9722 - mae: 5.1680 - val_loss: 443.5699 - val_mae: 20.8019\n",
      "Epoch 53/100\n",
      "14/14 [==============================] - 0s 14ms/step - loss: 44.8228 - mae: 5.1262 - val_loss: 431.0280 - val_mae: 20.5061\n",
      "Epoch 54/100\n",
      "14/14 [==============================] - 0s 13ms/step - loss: 44.7932 - mae: 5.1394 - val_loss: 444.0589 - val_mae: 20.8051\n",
      "Epoch 55/100\n",
      "14/14 [==============================] - 0s 18ms/step - loss: 44.9042 - mae: 5.1288 - val_loss: 465.3842 - val_mae: 21.3084\n",
      "Epoch 56/100\n",
      "14/14 [==============================] - 0s 12ms/step - loss: 45.1847 - mae: 5.1432 - val_loss: 454.0388 - val_mae: 21.0451\n",
      "Epoch 57/100\n",
      "14/14 [==============================] - 0s 10ms/step - loss: 44.6575 - mae: 5.1075 - val_loss: 444.1993 - val_mae: 20.8108\n",
      "Epoch 58/100\n",
      "14/14 [==============================] - 0s 10ms/step - loss: 44.3996 - mae: 5.1116 - val_loss: 436.1486 - val_mae: 20.6290\n",
      "Epoch 59/100\n",
      "14/14 [==============================] - 0s 8ms/step - loss: 45.5180 - mae: 5.1750 - val_loss: 439.9215 - val_mae: 20.7081\n",
      "Epoch 60/100\n",
      "14/14 [==============================] - 0s 11ms/step - loss: 44.7732 - mae: 5.1353 - val_loss: 433.8008 - val_mae: 20.5702\n",
      "Epoch 61/100\n",
      "14/14 [==============================] - 0s 10ms/step - loss: 44.6700 - mae: 5.1459 - val_loss: 427.3813 - val_mae: 20.4117\n",
      "Epoch 62/100\n",
      "14/14 [==============================] - 0s 12ms/step - loss: 44.0793 - mae: 5.0716 - val_loss: 432.9026 - val_mae: 20.5316\n",
      "Epoch 63/100\n",
      "14/14 [==============================] - 0s 11ms/step - loss: 45.1698 - mae: 5.1265 - val_loss: 431.0068 - val_mae: 20.4975\n",
      "Epoch 64/100\n",
      "14/14 [==============================] - 0s 9ms/step - loss: 44.5637 - mae: 5.1090 - val_loss: 436.9146 - val_mae: 20.6412\n",
      "Epoch 65/100\n",
      "14/14 [==============================] - 0s 10ms/step - loss: 44.5227 - mae: 5.0824 - val_loss: 437.2248 - val_mae: 20.6366\n",
      "Epoch 66/100\n",
      "14/14 [==============================] - 0s 9ms/step - loss: 45.0145 - mae: 5.1750 - val_loss: 420.9915 - val_mae: 20.2509\n",
      "Epoch 67/100\n",
      "14/14 [==============================] - 0s 10ms/step - loss: 44.9632 - mae: 5.1603 - val_loss: 426.1906 - val_mae: 20.3809\n",
      "Epoch 68/100\n",
      "14/14 [==============================] - 0s 10ms/step - loss: 44.7377 - mae: 5.1213 - val_loss: 441.1883 - val_mae: 20.7368\n",
      "Epoch 69/100\n",
      "14/14 [==============================] - 0s 11ms/step - loss: 44.5082 - mae: 5.1255 - val_loss: 436.6314 - val_mae: 20.6303\n",
      "Epoch 70/100\n",
      "14/14 [==============================] - 0s 14ms/step - loss: 44.9151 - mae: 5.1176 - val_loss: 418.4441 - val_mae: 20.1916\n",
      "Epoch 71/100\n",
      "14/14 [==============================] - 0s 11ms/step - loss: 44.5079 - mae: 5.0867 - val_loss: 423.7607 - val_mae: 20.3214\n",
      "Epoch 72/100\n",
      "14/14 [==============================] - 0s 10ms/step - loss: 44.5698 - mae: 5.1306 - val_loss: 426.5318 - val_mae: 20.3897\n",
      "Epoch 73/100\n",
      "14/14 [==============================] - 0s 19ms/step - loss: 44.8783 - mae: 5.1647 - val_loss: 432.1381 - val_mae: 20.5311\n",
      "Epoch 74/100\n",
      "14/14 [==============================] - 0s 14ms/step - loss: 44.7173 - mae: 5.1051 - val_loss: 428.8010 - val_mae: 20.4454\n",
      "Epoch 75/100\n",
      "14/14 [==============================] - 0s 14ms/step - loss: 44.6661 - mae: 5.1151 - val_loss: 424.3552 - val_mae: 20.3358\n",
      "Epoch 76/100\n",
      "14/14 [==============================] - 0s 14ms/step - loss: 44.6090 - mae: 5.1268 - val_loss: 437.5841 - val_mae: 20.6658\n",
      "Epoch 77/100\n",
      "14/14 [==============================] - 0s 11ms/step - loss: 44.6360 - mae: 5.1252 - val_loss: 433.7191 - val_mae: 20.5612\n",
      "Epoch 78/100\n",
      "14/14 [==============================] - 0s 11ms/step - loss: 44.7465 - mae: 5.0942 - val_loss: 436.4517 - val_mae: 20.6228\n",
      "Epoch 79/100\n",
      "14/14 [==============================] - 0s 18ms/step - loss: 44.7453 - mae: 5.1278 - val_loss: 426.9050 - val_mae: 20.3938\n",
      "Epoch 80/100\n",
      "14/14 [==============================] - 0s 11ms/step - loss: 44.3731 - mae: 5.1365 - val_loss: 432.3850 - val_mae: 20.5326\n",
      "Epoch 81/100\n",
      "14/14 [==============================] - 0s 9ms/step - loss: 44.6572 - mae: 5.1190 - val_loss: 435.1502 - val_mae: 20.6028\n",
      "Epoch 82/100\n",
      "14/14 [==============================] - 0s 11ms/step - loss: 44.2367 - mae: 5.0871 - val_loss: 434.6342 - val_mae: 20.5846\n",
      "Epoch 83/100\n",
      "14/14 [==============================] - 0s 11ms/step - loss: 44.6625 - mae: 5.1421 - val_loss: 406.3399 - val_mae: 19.8862\n",
      "Epoch 84/100\n",
      "14/14 [==============================] - 0s 11ms/step - loss: 44.8312 - mae: 5.1345 - val_loss: 425.8586 - val_mae: 20.3652\n",
      "Epoch 85/100\n",
      "14/14 [==============================] - 0s 13ms/step - loss: 44.9663 - mae: 5.1379 - val_loss: 412.8092 - val_mae: 20.0532\n",
      "Epoch 86/100\n",
      "14/14 [==============================] - 0s 10ms/step - loss: 44.7016 - mae: 5.1255 - val_loss: 431.3587 - val_mae: 20.5056\n",
      "Epoch 87/100\n",
      "14/14 [==============================] - 0s 12ms/step - loss: 44.4919 - mae: 5.1039 - val_loss: 426.2511 - val_mae: 20.3735\n",
      "Epoch 88/100\n",
      "14/14 [==============================] - 0s 10ms/step - loss: 44.8731 - mae: 5.1424 - val_loss: 422.1830 - val_mae: 20.2796\n",
      "Epoch 89/100\n",
      "14/14 [==============================] - 0s 11ms/step - loss: 44.8174 - mae: 5.1400 - val_loss: 413.6697 - val_mae: 20.0767\n",
      "Epoch 90/100\n",
      "14/14 [==============================] - 0s 9ms/step - loss: 44.4735 - mae: 5.1101 - val_loss: 429.8370 - val_mae: 20.4749\n",
      "Epoch 91/100\n",
      "14/14 [==============================] - 0s 10ms/step - loss: 44.6652 - mae: 5.0906 - val_loss: 440.1997 - val_mae: 20.7193\n",
      "Epoch 92/100\n",
      "14/14 [==============================] - 0s 10ms/step - loss: 44.1788 - mae: 5.0837 - val_loss: 415.2559 - val_mae: 20.1127\n",
      "Epoch 93/100\n",
      "14/14 [==============================] - 0s 11ms/step - loss: 44.9462 - mae: 5.1483 - val_loss: 434.4411 - val_mae: 20.5771\n",
      "Epoch 94/100\n",
      "14/14 [==============================] - 0s 11ms/step - loss: 44.2544 - mae: 5.1081 - val_loss: 422.3914 - val_mae: 20.2847\n",
      "Epoch 95/100\n",
      "14/14 [==============================] - 0s 9ms/step - loss: 44.9430 - mae: 5.1467 - val_loss: 425.1279 - val_mae: 20.3600\n",
      "Epoch 96/100\n",
      "14/14 [==============================] - 0s 34ms/step - loss: 44.7905 - mae: 5.1214 - val_loss: 418.3993 - val_mae: 20.1943\n",
      "Epoch 97/100\n",
      "14/14 [==============================] - 0s 12ms/step - loss: 44.1447 - mae: 5.0728 - val_loss: 422.9211 - val_mae: 20.2962\n",
      "Epoch 98/100\n",
      "14/14 [==============================] - 0s 11ms/step - loss: 44.3760 - mae: 5.1269 - val_loss: 433.9520 - val_mae: 20.5759\n",
      "Epoch 99/100\n",
      "14/14 [==============================] - 0s 14ms/step - loss: 44.7773 - mae: 5.1139 - val_loss: 438.5087 - val_mae: 20.6774\n",
      "Epoch 100/100\n",
      "14/14 [==============================] - 0s 11ms/step - loss: 44.2677 - mae: 5.1036 - val_loss: 428.0453 - val_mae: 20.4268\n"
     ]
    }
   ],
   "source": [
    "inputs = tf.keras.Input(shape=(sequence_length, data.shape[-1]))\n",
    "x = tf.keras.layers.Normalization()(inputs)\n",
    "\n",
    "x = tf.keras.layers.Dense(16, kernel_initializer='lecun_normal',\n",
    "                                 activation='selu')(x)\n",
    "\n",
    "x = tf.keras.layers.Dense(16, kernel_initializer='lecun_normal',\n",
    "                                 activation='selu')(x)\n",
    "\n",
    "x = tf.keras.layers.Dense(16, kernel_initializer='lecun_normal',\n",
    "                                 activation='selu')(x)\n",
    "outputs = tf.keras.layers.Dense(1)(x)\n",
    "\n",
    "model = tf.keras.Model(inputs, outputs)\n",
    "model.compile(optimizer=\"rmsprop\", loss=\"mse\", metrics=['mae'])\n",
    "\n",
    "_2 = model.fit(train_dataset,epochs=100,validation_data=val_dataset,) "
   ]
  },
  {
   "cell_type": "code",
   "execution_count": 9,
   "metadata": {},
   "outputs": [
    {
     "name": "stdout",
     "output_type": "stream",
     "text": [
      "3/3 [==============================] - 0s 6ms/step - loss: 145.0962 - mae: 11.8674\n",
      "TEST MAE: 11.87\n"
     ]
    }
   ],
   "source": [
    "print(f\"TEST MAE: {model.evaluate(test_dataset)[1]:.2f}\")"
   ]
  },
  {
   "cell_type": "code",
   "execution_count": 10,
   "metadata": {},
   "outputs": [
    {
     "name": "stdout",
     "output_type": "stream",
     "text": [
      "Model: \"model_1\"\n",
      "_________________________________________________________________\n",
      " Layer (type)                Output Shape              Param #   \n",
      "=================================================================\n",
      " input_2 (InputLayer)        [(None, 40, 5)]           0         \n",
      "                                                                 \n",
      " normalization_1 (Normalizat  (None, 40, 5)            11        \n",
      " ion)                                                            \n",
      "                                                                 \n",
      " dense_2 (Dense)             (None, 40, 16)            96        \n",
      "                                                                 \n",
      " dense_3 (Dense)             (None, 40, 16)            272       \n",
      "                                                                 \n",
      " dense_4 (Dense)             (None, 40, 16)            272       \n",
      "                                                                 \n",
      " dense_5 (Dense)             (None, 40, 1)             17        \n",
      "                                                                 \n",
      "=================================================================\n",
      "Total params: 668\n",
      "Trainable params: 657\n",
      "Non-trainable params: 11\n",
      "_________________________________________________________________\n"
     ]
    }
   ],
   "source": [
    "model.summary()"
   ]
  },
  {
   "cell_type": "markdown",
   "metadata": {},
   "source": [
    "# 7.\tПостройте рекуррентную нейронную сеть с нормализующим слоем и одним скрытым слоем LSTM из 16 нейронов для прогнозирования стоимости акции и обучите ее на обучающей выборке. Оцените качество прогнозирования при помощи заданного показателя качества на тестовой выборке."
   ]
  },
  {
   "cell_type": "code",
   "execution_count": 11,
   "metadata": {},
   "outputs": [
    {
     "name": "stdout",
     "output_type": "stream",
     "text": [
      "Epoch 1/100\n",
      "14/14 [==============================] - 3s 72ms/step - loss: 1248.6243 - mae: 34.6890 - val_loss: 3099.0593 - val_mae: 55.5764\n",
      "Epoch 2/100\n",
      "14/14 [==============================] - 0s 31ms/step - loss: 1176.5769 - mae: 33.6042 - val_loss: 3108.0859 - val_mae: 55.6582\n",
      "Epoch 3/100\n",
      "14/14 [==============================] - 0s 28ms/step - loss: 1107.3478 - mae: 32.5993 - val_loss: 3102.5168 - val_mae: 55.6142\n",
      "Epoch 4/100\n",
      "14/14 [==============================] - 0s 27ms/step - loss: 1057.3608 - mae: 31.8457 - val_loss: 3074.0586 - val_mae: 55.3656\n",
      "Epoch 5/100\n",
      "14/14 [==============================] - 0s 27ms/step - loss: 1022.4506 - mae: 31.2870 - val_loss: 3037.0037 - val_mae: 55.0342\n",
      "Epoch 6/100\n",
      "14/14 [==============================] - 0s 28ms/step - loss: 993.4400 - mae: 30.8208 - val_loss: 2995.8127 - val_mae: 54.6645\n",
      "Epoch 7/100\n",
      "14/14 [==============================] - 0s 29ms/step - loss: 966.3497 - mae: 30.3768 - val_loss: 2946.5505 - val_mae: 54.2149\n",
      "Epoch 8/100\n",
      "14/14 [==============================] - 0s 29ms/step - loss: 940.0934 - mae: 29.9368 - val_loss: 2878.9343 - val_mae: 53.5852\n",
      "Epoch 9/100\n",
      "14/14 [==============================] - 0s 29ms/step - loss: 914.8671 - mae: 29.5066 - val_loss: 2780.0181 - val_mae: 52.6453\n",
      "Epoch 10/100\n",
      "14/14 [==============================] - 0s 28ms/step - loss: 890.4891 - mae: 29.0900 - val_loss: 2455.3286 - val_mae: 49.4484\n",
      "Epoch 11/100\n",
      "14/14 [==============================] - 0s 27ms/step - loss: 866.6689 - mae: 28.6788 - val_loss: 2398.8904 - val_mae: 48.8713\n",
      "Epoch 12/100\n",
      "14/14 [==============================] - 1s 34ms/step - loss: 844.0291 - mae: 28.2801 - val_loss: 2356.7810 - val_mae: 48.4386\n",
      "Epoch 13/100\n",
      "14/14 [==============================] - 0s 31ms/step - loss: 822.7253 - mae: 27.8935 - val_loss: 2317.3904 - val_mae: 48.0303\n",
      "Epoch 14/100\n",
      "14/14 [==============================] - 0s 33ms/step - loss: 802.4518 - mae: 27.5264 - val_loss: 2280.9207 - val_mae: 47.6493\n",
      "Epoch 15/100\n",
      "14/14 [==============================] - 0s 29ms/step - loss: 784.6238 - mae: 27.2046 - val_loss: 2249.1411 - val_mae: 47.3147\n",
      "Epoch 16/100\n",
      "14/14 [==============================] - 0s 29ms/step - loss: 769.2400 - mae: 26.9212 - val_loss: 2219.3013 - val_mae: 46.9983\n",
      "Epoch 17/100\n",
      "14/14 [==============================] - 0s 27ms/step - loss: 754.4873 - mae: 26.6476 - val_loss: 2190.5696 - val_mae: 46.6917\n",
      "Epoch 18/100\n",
      "14/14 [==============================] - 0s 29ms/step - loss: 740.1420 - mae: 26.3776 - val_loss: 2163.5132 - val_mae: 46.4011\n",
      "Epoch 19/100\n",
      "14/14 [==============================] - 1s 32ms/step - loss: 726.2551 - mae: 26.1163 - val_loss: 2136.8628 - val_mae: 46.1130\n",
      "Epoch 20/100\n",
      "14/14 [==============================] - 0s 31ms/step - loss: 712.5859 - mae: 25.8543 - val_loss: 2111.2722 - val_mae: 45.8347\n",
      "Epoch 21/100\n",
      "14/14 [==============================] - 0s 28ms/step - loss: 699.3966 - mae: 25.5993 - val_loss: 2086.6226 - val_mae: 45.5651\n",
      "Epoch 22/100\n",
      "14/14 [==============================] - 0s 30ms/step - loss: 686.6034 - mae: 25.3454 - val_loss: 2063.2153 - val_mae: 45.3075\n",
      "Epoch 23/100\n",
      "14/14 [==============================] - 0s 32ms/step - loss: 674.1519 - mae: 25.0993 - val_loss: 2039.7648 - val_mae: 45.0480\n",
      "Epoch 24/100\n",
      "14/14 [==============================] - 0s 30ms/step - loss: 661.7786 - mae: 24.8534 - val_loss: 2016.7610 - val_mae: 44.7919\n",
      "Epoch 25/100\n",
      "14/14 [==============================] - 0s 33ms/step - loss: 649.6980 - mae: 24.6067 - val_loss: 1994.4187 - val_mae: 44.5418\n",
      "Epoch 26/100\n",
      "14/14 [==============================] - 1s 30ms/step - loss: 637.7288 - mae: 24.3666 - val_loss: 1971.8949 - val_mae: 44.2883\n",
      "Epoch 27/100\n",
      "14/14 [==============================] - 0s 28ms/step - loss: 625.9368 - mae: 24.1227 - val_loss: 1949.8477 - val_mae: 44.0387\n",
      "Epoch 28/100\n",
      "14/14 [==============================] - 0s 29ms/step - loss: 614.3411 - mae: 23.8807 - val_loss: 1928.3757 - val_mae: 43.7942\n",
      "Epoch 29/100\n",
      "14/14 [==============================] - 1s 39ms/step - loss: 602.9895 - mae: 23.6407 - val_loss: 1907.3324 - val_mae: 43.5533\n",
      "Epoch 30/100\n",
      "14/14 [==============================] - 0s 29ms/step - loss: 591.8069 - mae: 23.4043 - val_loss: 1886.0406 - val_mae: 43.3082\n",
      "Epoch 31/100\n",
      "14/14 [==============================] - 0s 31ms/step - loss: 580.6053 - mae: 23.1660 - val_loss: 1864.9703 - val_mae: 43.0643\n",
      "Epoch 32/100\n",
      "14/14 [==============================] - 1s 35ms/step - loss: 569.5864 - mae: 22.9263 - val_loss: 1844.2861 - val_mae: 42.8234\n",
      "Epoch 33/100\n",
      "14/14 [==============================] - 0s 27ms/step - loss: 558.7848 - mae: 22.6878 - val_loss: 1823.9974 - val_mae: 42.5859\n",
      "Epoch 34/100\n",
      "14/14 [==============================] - 0s 28ms/step - loss: 548.0904 - mae: 22.4527 - val_loss: 1803.4873 - val_mae: 42.3444\n",
      "Epoch 35/100\n",
      "14/14 [==============================] - 0s 30ms/step - loss: 537.4753 - mae: 22.2146 - val_loss: 1783.3490 - val_mae: 42.1060\n",
      "Epoch 36/100\n",
      "14/14 [==============================] - 0s 28ms/step - loss: 527.0599 - mae: 21.9765 - val_loss: 1763.7284 - val_mae: 41.8723\n",
      "Epoch 37/100\n",
      "14/14 [==============================] - 0s 28ms/step - loss: 516.8359 - mae: 21.7437 - val_loss: 1743.5000 - val_mae: 41.6301\n",
      "Epoch 38/100\n",
      "14/14 [==============================] - 0s 29ms/step - loss: 506.5072 - mae: 21.5050 - val_loss: 1723.7729 - val_mae: 41.3925\n",
      "Epoch 39/100\n",
      "14/14 [==============================] - 0s 28ms/step - loss: 496.4043 - mae: 21.2697 - val_loss: 1704.4005 - val_mae: 41.1578\n",
      "Epoch 40/100\n",
      "14/14 [==============================] - 0s 27ms/step - loss: 486.4511 - mae: 21.0355 - val_loss: 1685.0880 - val_mae: 40.9225\n",
      "Epoch 41/100\n",
      "14/14 [==============================] - 0s 26ms/step - loss: 476.6286 - mae: 20.8000 - val_loss: 1665.6719 - val_mae: 40.6846\n",
      "Epoch 42/100\n",
      "14/14 [==============================] - 0s 26ms/step - loss: 466.8093 - mae: 20.5650 - val_loss: 1646.1703 - val_mae: 40.4442\n",
      "Epoch 43/100\n",
      "14/14 [==============================] - 0s 30ms/step - loss: 457.1596 - mae: 20.3243 - val_loss: 1627.5469 - val_mae: 40.2133\n",
      "Epoch 44/100\n",
      "14/14 [==============================] - 0s 29ms/step - loss: 447.7887 - mae: 20.0913 - val_loss: 1608.6207 - val_mae: 39.9773\n",
      "Epoch 45/100\n",
      "14/14 [==============================] - 0s 31ms/step - loss: 438.2932 - mae: 19.8579 - val_loss: 1589.5885 - val_mae: 39.7386\n",
      "Epoch 46/100\n",
      "14/14 [==============================] - 0s 32ms/step - loss: 429.0255 - mae: 19.6187 - val_loss: 1571.1184 - val_mae: 39.5055\n",
      "Epoch 47/100\n",
      "14/14 [==============================] - 0s 32ms/step - loss: 419.8056 - mae: 19.3870 - val_loss: 1552.5182 - val_mae: 39.2694\n",
      "Epoch 48/100\n",
      "14/14 [==============================] - 0s 28ms/step - loss: 410.7377 - mae: 19.1515 - val_loss: 1533.7168 - val_mae: 39.0292\n",
      "Epoch 49/100\n",
      "14/14 [==============================] - 0s 32ms/step - loss: 401.7670 - mae: 18.9123 - val_loss: 1515.8739 - val_mae: 38.8000\n",
      "Epoch 50/100\n",
      "14/14 [==============================] - 0s 26ms/step - loss: 393.0081 - mae: 18.6817 - val_loss: 1497.6544 - val_mae: 38.5645\n",
      "Epoch 51/100\n",
      "14/14 [==============================] - 0s 30ms/step - loss: 384.2555 - mae: 18.4468 - val_loss: 1479.4303 - val_mae: 38.3275\n",
      "Epoch 52/100\n",
      "14/14 [==============================] - 0s 29ms/step - loss: 375.6469 - mae: 18.2096 - val_loss: 1461.5729 - val_mae: 38.0938\n",
      "Epoch 53/100\n",
      "14/14 [==============================] - 1s 30ms/step - loss: 367.1324 - mae: 17.9763 - val_loss: 1443.4813 - val_mae: 37.8556\n",
      "Epoch 54/100\n",
      "14/14 [==============================] - 0s 33ms/step - loss: 358.7129 - mae: 17.7382 - val_loss: 1425.9729 - val_mae: 37.6236\n",
      "Epoch 55/100\n",
      "14/14 [==============================] - 0s 29ms/step - loss: 350.4991 - mae: 17.5043 - val_loss: 1408.5752 - val_mae: 37.3917\n",
      "Epoch 56/100\n",
      "14/14 [==============================] - 0s 28ms/step - loss: 342.3693 - mae: 17.2720 - val_loss: 1390.9502 - val_mae: 37.1553\n",
      "Epoch 57/100\n",
      "14/14 [==============================] - 0s 25ms/step - loss: 334.3099 - mae: 17.0359 - val_loss: 1373.5531 - val_mae: 36.9204\n",
      "Epoch 58/100\n",
      "14/14 [==============================] - 0s 26ms/step - loss: 326.3253 - mae: 16.8021 - val_loss: 1355.9453 - val_mae: 36.6812\n",
      "Epoch 59/100\n",
      "14/14 [==============================] - 0s 27ms/step - loss: 318.4388 - mae: 16.5638 - val_loss: 1338.9883 - val_mae: 36.4493\n",
      "Epoch 60/100\n",
      "14/14 [==============================] - 0s 26ms/step - loss: 310.7545 - mae: 16.3315 - val_loss: 1321.8125 - val_mae: 36.2129\n",
      "Epoch 61/100\n",
      "14/14 [==============================] - 1s 34ms/step - loss: 303.0939 - mae: 16.0965 - val_loss: 1304.7224 - val_mae: 35.9762\n",
      "Epoch 62/100\n",
      "14/14 [==============================] - 0s 27ms/step - loss: 295.5504 - mae: 15.8605 - val_loss: 1287.7338 - val_mae: 35.7393\n",
      "Epoch 63/100\n",
      "14/14 [==============================] - 0s 28ms/step - loss: 288.0992 - mae: 15.6257 - val_loss: 1270.8615 - val_mae: 35.5025\n",
      "Epoch 64/100\n",
      "14/14 [==============================] - 0s 29ms/step - loss: 280.8392 - mae: 15.3885 - val_loss: 1254.6820 - val_mae: 35.2739\n",
      "Epoch 65/100\n",
      "14/14 [==============================] - 1s 54ms/step - loss: 273.7638 - mae: 15.1596 - val_loss: 1238.2356 - val_mae: 35.0400\n",
      "Epoch 66/100\n",
      "14/14 [==============================] - 0s 29ms/step - loss: 266.7696 - mae: 14.9263 - val_loss: 1222.0199 - val_mae: 34.8078\n",
      "Epoch 67/100\n",
      "14/14 [==============================] - 1s 39ms/step - loss: 259.8033 - mae: 14.6973 - val_loss: 1205.4948 - val_mae: 34.5696\n",
      "Epoch 68/100\n",
      "14/14 [==============================] - 0s 27ms/step - loss: 252.9431 - mae: 14.4641 - val_loss: 1189.3749 - val_mae: 34.3357\n",
      "Epoch 69/100\n",
      "14/14 [==============================] - 1s 36ms/step - loss: 246.2455 - mae: 14.2374 - val_loss: 1173.4608 - val_mae: 34.1032\n",
      "Epoch 70/100\n",
      "14/14 [==============================] - 0s 27ms/step - loss: 239.6803 - mae: 14.0104 - val_loss: 1157.6146 - val_mae: 33.8700\n",
      "Epoch 71/100\n",
      "14/14 [==============================] - 0s 28ms/step - loss: 233.1702 - mae: 13.7861 - val_loss: 1141.9597 - val_mae: 33.6381\n",
      "Epoch 72/100\n",
      "14/14 [==============================] - 1s 39ms/step - loss: 226.8208 - mae: 13.5625 - val_loss: 1126.1910 - val_mae: 33.4029\n",
      "Epoch 73/100\n",
      "14/14 [==============================] - 1s 31ms/step - loss: 220.4900 - mae: 13.3406 - val_loss: 1110.2935 - val_mae: 33.1641\n",
      "Epoch 74/100\n",
      "14/14 [==============================] - 1s 41ms/step - loss: 214.2983 - mae: 13.1131 - val_loss: 1094.7073 - val_mae: 32.9283\n",
      "Epoch 75/100\n",
      "14/14 [==============================] - 0s 28ms/step - loss: 208.2247 - mae: 12.8910 - val_loss: 1079.7445 - val_mae: 32.7003\n",
      "Epoch 76/100\n",
      "14/14 [==============================] - 0s 28ms/step - loss: 202.3624 - mae: 12.6721 - val_loss: 1064.4766 - val_mae: 32.4660\n",
      "Epoch 77/100\n",
      "14/14 [==============================] - 0s 29ms/step - loss: 196.5074 - mae: 12.4506 - val_loss: 1049.0889 - val_mae: 32.2281\n",
      "Epoch 78/100\n",
      "14/14 [==============================] - 0s 28ms/step - loss: 190.8107 - mae: 12.2310 - val_loss: 1034.5068 - val_mae: 32.0011\n",
      "Epoch 79/100\n",
      "14/14 [==============================] - 0s 30ms/step - loss: 185.2967 - mae: 12.0198 - val_loss: 1020.0233 - val_mae: 31.7740\n",
      "Epoch 80/100\n",
      "14/14 [==============================] - 1s 57ms/step - loss: 179.9586 - mae: 11.8128 - val_loss: 1005.5831 - val_mae: 31.5460\n",
      "Epoch 81/100\n",
      "14/14 [==============================] - 1s 39ms/step - loss: 174.5742 - mae: 11.6065 - val_loss: 990.3242 - val_mae: 31.3032\n",
      "Epoch 82/100\n",
      "14/14 [==============================] - 0s 28ms/step - loss: 169.2171 - mae: 11.3918 - val_loss: 976.2775 - val_mae: 31.0780\n",
      "Epoch 83/100\n",
      "14/14 [==============================] - 0s 30ms/step - loss: 164.1422 - mae: 11.1932 - val_loss: 961.8194 - val_mae: 30.8445\n",
      "Epoch 84/100\n",
      "14/14 [==============================] - 0s 27ms/step - loss: 159.0844 - mae: 10.9924 - val_loss: 947.3037 - val_mae: 30.6083\n",
      "Epoch 85/100\n",
      "14/14 [==============================] - 0s 27ms/step - loss: 154.1778 - mae: 10.7923 - val_loss: 933.6042 - val_mae: 30.3837\n",
      "Epoch 86/100\n",
      "14/14 [==============================] - 0s 27ms/step - loss: 149.4109 - mae: 10.5989 - val_loss: 919.3995 - val_mae: 30.1490\n",
      "Epoch 87/100\n",
      "14/14 [==============================] - 0s 31ms/step - loss: 144.7070 - mae: 10.4083 - val_loss: 905.5710 - val_mae: 29.9188\n",
      "Epoch 88/100\n",
      "14/14 [==============================] - 0s 28ms/step - loss: 140.1109 - mae: 10.2198 - val_loss: 891.6044 - val_mae: 29.6845\n",
      "Epoch 89/100\n",
      "14/14 [==============================] - 0s 30ms/step - loss: 135.5613 - mae: 10.0313 - val_loss: 877.6111 - val_mae: 29.4478\n",
      "Epoch 90/100\n",
      "14/14 [==============================] - 1s 57ms/step - loss: 131.1269 - mae: 9.8533 - val_loss: 863.9430 - val_mae: 29.2149\n",
      "Epoch 91/100\n",
      "14/14 [==============================] - 1s 39ms/step - loss: 126.9164 - mae: 9.6745 - val_loss: 851.0108 - val_mae: 28.9927\n",
      "Epoch 92/100\n",
      "14/14 [==============================] - 0s 32ms/step - loss: 122.8988 - mae: 9.5127 - val_loss: 838.1365 - val_mae: 28.7698\n",
      "Epoch 93/100\n",
      "14/14 [==============================] - 0s 27ms/step - loss: 118.8857 - mae: 9.3420 - val_loss: 824.6960 - val_mae: 28.5352\n",
      "Epoch 94/100\n",
      "14/14 [==============================] - 0s 29ms/step - loss: 114.8822 - mae: 9.1710 - val_loss: 811.3406 - val_mae: 28.3003\n",
      "Epoch 95/100\n",
      "14/14 [==============================] - 0s 26ms/step - loss: 111.0200 - mae: 9.0038 - val_loss: 798.0013 - val_mae: 28.0636\n",
      "Epoch 96/100\n",
      "14/14 [==============================] - 0s 32ms/step - loss: 107.2889 - mae: 8.8333 - val_loss: 785.7839 - val_mae: 27.8451\n",
      "Epoch 97/100\n",
      "14/14 [==============================] - 0s 30ms/step - loss: 103.8659 - mae: 8.6713 - val_loss: 773.5458 - val_mae: 27.6245\n",
      "Epoch 98/100\n",
      "14/14 [==============================] - 0s 28ms/step - loss: 100.4434 - mae: 8.5074 - val_loss: 760.7999 - val_mae: 27.3928\n",
      "Epoch 99/100\n",
      "14/14 [==============================] - 0s 31ms/step - loss: 97.0394 - mae: 8.3471 - val_loss: 748.4162 - val_mae: 27.1658\n",
      "Epoch 100/100\n",
      "14/14 [==============================] - 1s 30ms/step - loss: 93.7859 - mae: 8.1863 - val_loss: 736.0330 - val_mae: 26.9369\n"
     ]
    }
   ],
   "source": [
    "inputs = tf.keras.Input(shape=(sequence_length, data.shape[-1]))\n",
    "\n",
    "x = tf.keras.layers.Normalization()(x)\n",
    "x = tf.keras.layers.LSTM(16)(inputs) \n",
    "\n",
    "outputs = tf.keras.layers.Dense(1)(x)\n",
    "model = tf.keras.Model(inputs, outputs)\n",
    "\n",
    "model.compile(optimizer=\"rmsprop\", loss=\"mse\", metrics=['mae'])\n",
    "_3 = model.fit(train_dataset,epochs=100,validation_data=val_dataset) "
   ]
  },
  {
   "cell_type": "code",
   "execution_count": 12,
   "metadata": {},
   "outputs": [
    {
     "name": "stdout",
     "output_type": "stream",
     "text": [
      "3/3 [==============================] - 0s 7ms/step - loss: 373.6721 - mae: 19.2255\n",
      "TEST MAE: 19.23\n"
     ]
    }
   ],
   "source": [
    "print(f\"TEST MAE: {model.evaluate(test_dataset)[1]:.2f}\")"
   ]
  },
  {
   "cell_type": "markdown",
   "metadata": {},
   "source": [
    "# 8.\tВизуализируйте кривые обучения для трех построенных моделей на одном рисунке в зависимости от эпохи обучения, подписывая оси и рисунок и создавая легенду. Используйте для визуализации относительную ошибку (ошибку обучения, деленную на начальную ошибку на первой эпохе). "
   ]
  },
  {
   "cell_type": "code",
   "execution_count": 14,
   "metadata": {},
   "outputs": [
    {
     "data": {
      "image/png": "[encoded data removed]",
      "text/plain": [
       "<Figure size 432x288 with 1 Axes>"
      ]
     },
     "metadata": {
      "needs_background": "light"
     },
     "output_type": "display_data"
    }
   ],
   "source": [
    "plt.rcParams['axes.facecolor'] = 'purple'\n",
    "l1 = _1.history[\"loss\"]/np.asarray(_1.history[\"loss\"][0])\n",
    "vl1 = _1.history[\"val_loss\"]/np.asarray(_1.history[\"val_loss\"][0])\n",
    "l2 = _2.history[\"loss\"]/np.asarray(_2.history[\"loss\"][0])\n",
    "vl2 = _2.history[\"val_loss\"]/np.asarray(_2.history[\"val_loss\"][0])\n",
    "l3 = _3.history[\"loss\"]/np.asarray(_3.history[\"loss\"][0])\n",
    "vl3 = _3.history[\"val_loss\"]/np.asarray(_3.history[\"val_loss\"][0])\n",
    "epochs = range(1, len(l1) + 1)\n",
    "plt.plot(epochs, l1, \"go\", label=\"l1\")\n",
    "plt.plot(epochs, l2, \"orange\", label=\"l2\")\n",
    "plt.plot(epochs, l3, \"cyan\", label=\"l3\")\n",
    "plt.plot(epochs, vl1, \"ro\", label=\"vl1\")\n",
    "plt.plot(epochs, vl2, \"bo\", label=\"vl2\")\n",
    "plt.plot(epochs, vl3, \"yellow\", label=\"vl3\")\n",
    "plt.xlabel('X')\n",
    "plt.title('ANAIDA')\n",
    "plt.ylabel('Y')\n",
    "plt.legend();"
   ]
  },
  {
   "cell_type": "markdown",
   "metadata": {},
   "source": [
    "# 9.\t Визуализируйте весь набор данных и прогнозы трех построенных моделей для обучающей и тестовой выборок на одном рисунке (ось X – даты, ось Y – стоимость акции), подписывая оси и рисунок и создавая легенду. \n"
   ]
  },
  {
   "cell_type": "code",
   "execution_count": 15,
   "metadata": {},
   "outputs": [
    {
     "data": {
      "text/plain": [
       "Text(0, 0.5, 'Y')"
      ]
     },
     "execution_count": 15,
     "metadata": {},
     "output_type": "execute_result"
    },
    {
     "data": {
      "image/png": "[encoded data removed]",
      "text/plain": [
       "<Figure size 432x288 with 1 Axes>"
      ]
     },
     "metadata": {
      "needs_background": "light"
     },
     "output_type": "display_data"
    }
   ],
   "source": [
    "plt.rcParams['axes.facecolor'] = 'white'\n",
    "y.plot.line(grid=True,color='purple');\n",
    "plt.xlabel('X')\n",
    "plt.title('ANAIDA')\n",
    "plt.ylabel('Y')"
   ]
  }
 ],
 "metadata": {
  "colab": {
   "name": "Lab_report.ipynb",
   "provenance": []
  },
  "kernelspec": {
   "display_name": "Python 3 (ipykernel)",
   "language": "python",
   "name": "python3"
  },
  "language_info": {
   "codemirror_mode": {
    "name": "ipython",
    "version": 3
   },
   "file_extension": ".py",
   "mimetype": "text/x-python",
   "name": "python",
   "nbconvert_exporter": "python",
   "pygments_lexer": "ipython3",
   "version": "3.9.7"
  }
 },
 "nbformat": 4,
 "nbformat_minor": 1
}
